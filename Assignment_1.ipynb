{
  "nbformat": 4,
  "nbformat_minor": 0,
  "metadata": {
    "colab": {
      "name": "Assignment-1",
      "provenance": [],
      "collapsed_sections": [],
      "authorship_tag": "ABX9TyMaV9tlwtGtQQVgGE2rj+No",
      "include_colab_link": true
    },
    "kernelspec": {
      "display_name": "Python 3",
      "name": "python3"
    },
    "language_info": {
      "name": "python"
    }
  },
  "cells": [
    {
      "cell_type": "markdown",
      "metadata": {
        "id": "view-in-github",
        "colab_type": "text"
      },
      "source": [
        "<a href=\"https://colab.research.google.com/github/Varshinimaharaja/hello-world/blob/master/Assignment_1.ipynb\" target=\"_parent\"><img src=\"https://colab.research.google.com/assets/colab-badge.svg\" alt=\"Open In Colab\"/></a>"
      ]
    },
    {
      "cell_type": "code",
      "metadata": {
        "id": "CHNrVHomw9XI"
      },
      "source": [
        "# 1. Write a function that inputs a number and prints the multiplication table of that number\n",
        "\n",
        "\n",
        "#To take input from the user\n",
        "num = int(input(\"Enter the Number: \"))\n",
        "\n",
        "# Iterate 10 times from i = 1 to 10\n",
        "for i in range(1, 11):\n",
        "   print(num, 'x', i, '=', num*(i))"
      ],
      "execution_count": null,
      "outputs": []
    },
    {
      "cell_type": "code",
      "metadata": {
        "id": "gowApZZtyHiT"
      },
      "source": [
        "#2. Write a program to print twin primes less than 1000. If two consecutive odd numbers are both prime then they are known as twin primes\n",
        "\n",
        "def is_prime(n):\n",
        "   for i in range(2, n):\n",
        "      if n % i == 0:\n",
        "         return False\n",
        "   return True\n",
        "\n",
        "def generate_twins_prime(start, end):\n",
        "   for i in range(start, end):\n",
        "      j = i + 2\n",
        "      if(is_prime(i) and is_prime(j)):\n",
        "         print(\"{:d} and {:d}\".format(i, j))\n",
        "\n",
        "generate_twins_prime(2, 1000)"
      ],
      "execution_count": null,
      "outputs": []
    },
    {
      "cell_type": "code",
      "metadata": {
        "id": "j_cfTfPPypym"
      },
      "source": [
        "# 3. Write a program to find out the prime factors of a number. Example: prime factors of 56 -2, 2, 2, 7\n",
        "Number = int(input(\"Enter any Number: \"))\n",
        "i = 1\n",
        "\n",
        "while(i <= Number):\n",
        "    count = 0\n",
        "    if(Number % i == 0):\n",
        "        j = 1\n",
        "        while(j <= i):\n",
        "            if(i % j == 0):\n",
        "                count = count + 1\n",
        "            j = j + 1\n",
        "            \n",
        "        if (count == 2):\n",
        "               print(i)\n",
        "            \n",
        "    i = i + 1\n"
      ],
      "execution_count": null,
      "outputs": []
    },
    {
      "cell_type": "code",
      "metadata": {
        "id": "CtUW-YdUW25J",
        "colab": {
          "base_uri": "https://localhost:8080/"
        },
        "outputId": "3da2fbca-8683-4447-c2f1-78949fd9773b"
      },
      "source": [
        "# 4. Write a program to implement these formulae of permutations and combinations.\n",
        "# Number of permutations of n objects taken r at a time: p(n, r) = n! / (n-r)!.\n",
        "# Number of combinations of n objects taken r at a time is: c(n, r) = n! / (r!*(n-r)!) = p(n,r) / r!\n",
        "\n",
        "def factorial(n):\n",
        "    result = 1;\n",
        "    for i in range(2,n+1):\n",
        "        result = result * i;\n",
        "\n",
        "    return result\n",
        " \n",
        "# Now, calculate the permutation and Combimation\n",
        "def permutationAndCombimation(n, r):\n",
        "  \n",
        "    permutation = factorial(n)/factorial(n-r) ;\n",
        "    combination = permutation / r\n",
        "\n",
        "    return permutation, combination;\n",
        "\n",
        "n= int(input(\"Enter the Number of permutations objects:  \"))\n",
        "r= int(input(\"Enter the number where n is taken at a time:  \"))\n",
        "\n",
        "\n",
        "print('Permutation and combianation of the given n and r is: ', permutationAndCombimation(n, r))\n",
        "\n",
        "  "
      ],
      "execution_count": null,
      "outputs": [
        {
          "output_type": "stream",
          "text": [
            "Enter the Number of permutations objects:  3\n",
            "Enter the number where n is taken at a time:  1\n",
            "Permutation and combianation of the given n and r is:  (3.0, 3.0)\n"
          ],
          "name": "stdout"
        }
      ]
    },
    {
      "cell_type": "code",
      "metadata": {
        "id": "TfIFJSAgXDwA",
        "colab": {
          "base_uri": "https://localhost:8080/"
        },
        "outputId": "fac1f3af-9773-4128-8f30-5e9a1c5700c2"
      },
      "source": [
        "#5.Write a function that converts a decimal number to binary number\n",
        "\n",
        "def dectobinary(dec):\n",
        "  return dec\n",
        "\n",
        "dec= int(input(\"Enter the Decimal number:  \"))\n",
        "\n",
        "print(\"The binary value of\", dec, \"is:\",  bin(dec))\n",
        "\n"
      ],
      "execution_count": null,
      "outputs": [
        {
          "output_type": "stream",
          "text": [
            "Enter the Decimal number:  123\n",
            "The binary value of 123 is: 0b1111011\n"
          ],
          "name": "stdout"
        }
      ]
    },
    {
      "cell_type": "code",
      "metadata": {
        "id": "r6MKVMthd04U",
        "colab": {
          "base_uri": "https://localhost:8080/"
        },
        "outputId": "978ed11f-e67c-4ae0-a12e-2e63c8fc8bf7"
      },
      "source": [
        "#6. Write a function cubesum() that accepts an integer and returns the sum of the cubes of\n",
        "# individual digits of that number. Use this function to make functions PrintArmstrong() and\n",
        "# isArmstrong() to print Armstrong numbers and to find whether is an Armstrong number.\n",
        "\n",
        "def cube(x):\n",
        "  p = x * x * x\n",
        "  return p\n",
        "\n",
        "def PrintArmstrong(num):\n",
        "  sum = 0 \n",
        "  temp = num \n",
        "  while (temp > 0): \n",
        "    digit = temp % 10 \n",
        "    sum += digit ** 3 \n",
        "    temp //= 10 \n",
        "  if (num == sum): \n",
        "    print(num, \" is Armstrong number\")\n",
        "  else: \n",
        "    print(num, \"Not an Armstrong number\")\n",
        "\n",
        "\n",
        "x = int(input(\"Enter an any number : \"))\n",
        "PrintArmstrong(cube(x))\n",
        "\n"
      ],
      "execution_count": null,
      "outputs": [
        {
          "output_type": "stream",
          "text": [
            "Enter an any number : 2\n",
            "8 Not an Armstrong number\n"
          ],
          "name": "stdout"
        }
      ]
    },
    {
      "cell_type": "code",
      "metadata": {
        "id": "t7LtsNWvd_MV"
      },
      "source": [
        "#7 Write a function prodDigits() that inputs a number and returns the product of digits of that number\n",
        "\n",
        "def productOfDigits(Num):\n",
        "  List = [int(x) for x in str(Num)]\n",
        "  i = 1\n",
        "  for x in List:\n",
        "    i = i * x\n",
        "  print(\"product of digits of\", Num , \"is \" + str(i))\n",
        "\n",
        "Num = int(input(\"Enter an Number: \"))\n",
        "productOfDigits(Num)\n"
      ],
      "execution_count": null,
      "outputs": []
    },
    {
      "cell_type": "code",
      "metadata": {
        "id": "UDFPqJ3f0oUn",
        "colab": {
          "base_uri": "https://localhost:8080/"
        },
        "outputId": "e5d67632-86c5-4b88-df80-48901a7a3ce6"
      },
      "source": [
        "#8  If all digits of a number n are multiplied by each other repeating with the product, the one digit number obtained at last is called the multiplicative digital root of n. The number of times digits need to be multiplied to reach one digit is called the multiplicative persistance of n.\n",
        "# Example: 86 -> 48 -> 32 -> 6 (MDR 6, MPersistence 3)\n",
        "# 341 -> 12->2 (MDR 2, MPersistence 2)\n",
        "# Using the function prodDigits() of previous exercise write functions MDR() and MPersistence() that input a number and return its multiplicative digital root and multiplicative persistence respectively\n",
        "\n",
        "def productOfDigits(Num):\n",
        "  List = [int(x) for x in str(Num)]\n",
        "  i = 1\n",
        "  for x in List:\n",
        "    i = i * x\n",
        "  return str(i)\n",
        "  print(\"product of digits of\", Num , \"is \" + str(i))\n",
        "\n",
        "def MDR(Num):\n",
        "    s = str(Num)\n",
        "    pers = 0\n",
        "    while len(s) > 1:\n",
        "        s = str(productOfDigits(int(s)))\n",
        "        pers += 1\n",
        "    return int(s), pers\n",
        "\n",
        "Num = int(input(\"Enter an Number: \"))\n",
        "mdr, mper = MDR(Num)\n",
        "print(\"For {0}--> (MDR {1}, MPersistence {2})\" . format(Num, mdr, mper))\n",
        "\n",
        "   "
      ],
      "execution_count": 22,
      "outputs": [
        {
          "output_type": "stream",
          "text": [
            "Enter an Number: 341\n",
            "For 341--> (MDR 2, MPersistence 2)\n"
          ],
          "name": "stdout"
        }
      ]
    },
    {
      "cell_type": "code",
      "metadata": {
        "id": "joha5QijS24M"
      },
      "source": [
        "#9 Write a function sumPdivisors() that finds the sum of proper divisors of a number. Proper divisors of a number are those numbers by which the number is divisible, except the number itself. \n",
        "#For example proper divisors of 36 are 1, 2, 3, 4, 6, 9, 18\n",
        "\n",
        "\n",
        "def sumPdivisors(n):\n",
        "    div = []\n",
        "    for i in range(1, n):        \n",
        "        if num % i == 0:\n",
        "            div.append(i)\n",
        "    return sum(div)\n",
        "\n",
        "n = int(input(\"Enter an Number: \"))\n",
        "print(\" Sum of proper divisors of the\", n , \"is\", sumPdivisors(n))\n"
      ],
      "execution_count": null,
      "outputs": []
    },
    {
      "cell_type": "code",
      "metadata": {
        "id": "ieew5RN_xP_0",
        "colab": {
          "base_uri": "https://localhost:8080/"
        },
        "outputId": "6a6078be-93bb-45a3-f92f-0d46493e4828"
      },
      "source": [
        "#10 A number is called perfect if the sum of proper divisors of that number is equal to the number. \n",
        "#For example 28 is perfect number, since 1+2+4+7+14=28. Write a program to print all the perfect numbers in a given range\n",
        "# Python program to check whether a given number is a perfect number or not\n",
        "\n",
        "n = int(input(\"Enter any number: \"))\n",
        "sum = 0\n",
        "for i in range(1, n):\n",
        "    if(n % i == 0):\n",
        "        sum = sum + i\n",
        "if (sum == n):\n",
        "    print(n, \"is a Perfect number\")\n",
        "else:\n",
        "    print(n,\" not a Perfect number\")\n"
      ],
      "execution_count": null,
      "outputs": [
        {
          "output_type": "stream",
          "text": [
            "Enter any number: 6\n",
            "6 is a Perfect number!\n"
          ],
          "name": "stdout"
        }
      ]
    },
    {
      "cell_type": "code",
      "metadata": {
        "id": "HkSP0U5OYZZe"
      },
      "source": [
        "# 11. Two different numbers are called amicable numbers if the sum of the proper divisors of each is equal to the other number. For example 220 and 284 are amicable numbers.\n",
        "# Sum of proper divisors of 220 = 1+2+4+5+10+11+20+22+44+55+110 = 284\n",
        "# Sum of proper divisors of 284 = 1+2+4+71+142 = 220\n",
        "# Write a function to print pairs of amicable numbers in a range\n",
        "\n",
        "def sumPdivisors(num):\n",
        "    div = []\n",
        "    for i in range(1, num):        \n",
        "        if num % i == 0:\n",
        "            div.append(i)\n",
        "    return sum(div)\n",
        "\n",
        "def amicableNum(lower, upper):\n",
        "    for num in range(lower, upper+1):\n",
        "        for num_ in range(num, upper+1):\n",
        "            if num != num_:\n",
        "                if amicablePair(num, num_):\n",
        "                    print(num, num_)     \n",
        "        \n",
        "def amicablePair(num1, num2):\n",
        "    return (sumPdivisors(num1) == num2) and (sumPdivisors(num2) == num1)\n",
        "\n",
        "amicableNum(1, 300)\n",
        "\n"
      ],
      "execution_count": null,
      "outputs": []
    },
    {
      "cell_type": "code",
      "metadata": {
        "colab": {
          "base_uri": "https://localhost:8080/"
        },
        "id": "DV38iPLVZWjz",
        "outputId": "09fb8111-7088-463c-d6b9-92f3e923681b"
      },
      "source": [
        "#12 . Write a program which can filter odd numbers in a list by using filter function\n",
        "\n",
        "lis = [1,2,3,4,5, 6, 7, 8, 9, 10]\n",
        "  \n",
        "# Output list initialisation\n",
        "out = []\n",
        "  \n",
        "for num in lis: \n",
        "      \n",
        "    # checking condition \n",
        "    if num % 2 != 0: \n",
        "        out.append(num)\n",
        "          \n",
        "  \n",
        "# printing output\n",
        "print(out)"
      ],
      "execution_count": null,
      "outputs": [
        {
          "output_type": "stream",
          "text": [
            "[1, 3, 5, 7, 9]\n"
          ],
          "name": "stdout"
        }
      ]
    },
    {
      "cell_type": "code",
      "metadata": {
        "colab": {
          "base_uri": "https://localhost:8080/"
        },
        "id": "dUvsmcHUZW0Z",
        "outputId": "fe5ec58c-0b85-45c8-e13a-5b94b72df945"
      },
      "source": [
        "#13. Write a program which can map() to make a list whose elements are cube of elements in a given list\n",
        "\n",
        "\n",
        "numbers = [1, 2, 3, 4, 5, 6, 7, 8, 9, 10]\n",
        "print(\"List of Numbers:\",numbers)\n",
        "cube_numbers = list(map(lambda x: x ** 3, nums))\n",
        "print(\"List of Cubes of given Numbers: \",cube_numbers)"
      ],
      "execution_count": null,
      "outputs": [
        {
          "output_type": "stream",
          "text": [
            "List of Numbers: [1, 2, 3, 4, 5, 6, 7, 8, 9, 10]\n",
            "List of Cubes of given Numbers:  [1, 8, 27, 64, 125, 216, 343, 512, 729, 1000]\n"
          ],
          "name": "stdout"
        }
      ]
    },
    {
      "cell_type": "code",
      "metadata": {
        "colab": {
          "base_uri": "https://localhost:8080/"
        },
        "id": "MBQj8f6OZXMz",
        "outputId": "954a4e75-2485-43dc-8ed2-351c5dc61aaf"
      },
      "source": [
        "#14. Write a program which can map() and filter() to make a list whose elements are cube of even number in a given list\n",
        "numbers = [1, 2, 3, 4, 5, 6, 7, 8, 9, 10]\n",
        "print(\"List of Numbers:\",numbers)\n",
        "\n",
        "evenNumber= []\n",
        "x = lambda m: m % 2 == 0\n",
        "evenNumber = list(filter(x, numbers))\n",
        "print(\"List of Even Numbers:\",evenNumber)\n",
        "\n",
        "cube_numbers = list(map(lambda x: x ** 3, evenNumber))\n",
        "print(\"List of Cubes of Even Numbers: \",cube_numbers)\n",
        "\n"
      ],
      "execution_count": null,
      "outputs": [
        {
          "output_type": "stream",
          "text": [
            "List of Numbers: [1, 2, 3, 4, 5, 6, 7, 8, 9, 10]\n",
            "List of Even Numbers: [2, 4, 6, 8, 10]\n",
            "List of Cubes of Even Numbers:  [8, 64, 216, 512, 1000]\n"
          ],
          "name": "stdout"
        }
      ]
    }
  ]
}